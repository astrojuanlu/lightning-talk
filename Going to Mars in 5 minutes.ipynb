{
 "cells": [
  {
   "cell_type": "markdown",
   "metadata": {
    "slideshow": {
     "slide_type": "slide"
    }
   },
   "source": [
    "# Going to Mars with Python using poliastro\n",
    "\n",
    "![poliastro](https://docs.poliastro.space/en/latest/_images/logo_text.png)\n",
    "\n",
    "## Juan Luis Cano Rodríguez <hello@juanlu.space>"
   ]
  },
  {
   "cell_type": "markdown",
   "metadata": {
    "slideshow": {
     "slide_type": "fragment"
    }
   },
   "source": [
    "### ...in 5 minutes :)"
   ]
  },
  {
   "cell_type": "markdown",
   "metadata": {
    "slideshow": {
     "slide_type": "slide"
    }
   },
   "source": [
    "## *Warning*: This *is* rocket science!"
   ]
  },
  {
   "cell_type": "markdown",
   "metadata": {
    "slideshow": {
     "slide_type": "slide"
    }
   },
   "source": [
    "# What is Astrodynamics?\n",
    "\n",
    "> A branch of Mechanics (itself a branch of Physics) which studies practical problems concerning the motion of rockets and spacecraft throght space"
   ]
  },
  {
   "cell_type": "markdown",
   "metadata": {
    "slideshow": {
     "slide_type": "subslide"
    }
   },
   "source": [
    "![Rosetta's mission](http://www.esa.int/var/esa/storage/images/esa_multimedia/images/2014/10/rosetta_s_journey_and_timeline/14978088-1-eng-GB/Rosetta_s_journey_and_timeline_node_full_image_2.jpg)"
   ]
  },
  {
   "cell_type": "markdown",
   "metadata": {
    "slideshow": {
     "slide_type": "slide"
    }
   },
   "source": [
    "# What is poliastro?\n",
    "\n",
    "> A pure Python library for Astrodynamics"
   ]
  },
  {
   "cell_type": "markdown",
   "metadata": {
    "slideshow": {
     "slide_type": "slide"
    }
   },
   "source": [
    "# Let's go to Mars!"
   ]
  },
  {
   "cell_type": "code",
   "execution_count": null,
   "metadata": {
    "slideshow": {
     "slide_type": "fragment"
    }
   },
   "outputs": [],
   "source": [
    "import warnings\n",
    "\n",
    "warnings.filterwarnings(\"ignore\")\n",
    "\n",
    "import numpy as np\n",
    "\n",
    "import matplotlib.pyplot as plt\n",
    "\n",
    "plt.ion()\n",
    "\n",
    "import astropy.units as u\n",
    "from astropy import time\n",
    "\n",
    "from poliastro.bodies import Earth, Mars, Sun\n",
    "from poliastro.iod import lambert\n",
    "from poliastro.twobody import Orbit\n",
    "from poliastro.twobody.propagation import propagate"
   ]
  },
  {
   "cell_type": "markdown",
   "metadata": {
    "slideshow": {
     "slide_type": "subslide"
    }
   },
   "source": [
    "## First: define the orbit"
   ]
  },
  {
   "cell_type": "code",
   "execution_count": null,
   "metadata": {
    "slideshow": {
     "slide_type": "fragment"
    }
   },
   "outputs": [],
   "source": [
    "r = [-6045, -3490, 2500] * u.km\n",
    "v = [-3.457, 6.618, 2.533] * u.km / u.s\n",
    "\n",
    "ss = Orbit.from_vectors(Earth, r, v)\n",
    "\n",
    "ss.plot()"
   ]
  },
  {
   "cell_type": "markdown",
   "metadata": {
    "slideshow": {
     "slide_type": "subslide"
    }
   },
   "source": [
    "## Second: locate the planets"
   ]
  },
  {
   "cell_type": "code",
   "execution_count": null,
   "metadata": {
    "slideshow": {
     "slide_type": "fragment"
    }
   },
   "outputs": [],
   "source": [
    "from astropy.coordinates import solar_system_ephemeris\n",
    "\n",
    "solar_system_ephemeris.set(\"jpl\")"
   ]
  },
  {
   "cell_type": "markdown",
   "metadata": {
    "slideshow": {
     "slide_type": "subslide"
    }
   },
   "source": [
    "### Earth"
   ]
  },
  {
   "cell_type": "code",
   "execution_count": null,
   "metadata": {
    "slideshow": {
     "slide_type": "fragment"
    }
   },
   "outputs": [],
   "source": [
    "date_launch = time.Time(\"2011-11-26 15:02\", scale=\"utc\")\n",
    "\n",
    "earth_launch = Orbit.from_body_ephem(Earth, date_launch)\n",
    "earth_launch"
   ]
  },
  {
   "cell_type": "code",
   "execution_count": null,
   "metadata": {
    "slideshow": {
     "slide_type": "fragment"
    }
   },
   "outputs": [],
   "source": [
    "earth_launch.r"
   ]
  },
  {
   "cell_type": "code",
   "execution_count": null,
   "metadata": {
    "slideshow": {
     "slide_type": "fragment"
    }
   },
   "outputs": [],
   "source": [
    "earth_launch.v"
   ]
  },
  {
   "cell_type": "markdown",
   "metadata": {
    "slideshow": {
     "slide_type": "subslide"
    }
   },
   "source": [
    "### Mars"
   ]
  },
  {
   "cell_type": "code",
   "execution_count": null,
   "metadata": {
    "slideshow": {
     "slide_type": "fragment"
    }
   },
   "outputs": [],
   "source": [
    "date_arrival = time.Time(\"2012-08-06 05:17\", scale=\"utc\")\n",
    "\n",
    "tof = date_arrival - date_launch\n",
    "\n",
    "mars_arrival = Orbit.from_body_ephem(Mars, date_arrival)\n",
    "mars_arrival"
   ]
  },
  {
   "cell_type": "markdown",
   "metadata": {
    "slideshow": {
     "slide_type": "subslide"
    }
   },
   "source": [
    "## Third: Compute the trajectory"
   ]
  },
  {
   "cell_type": "code",
   "execution_count": null,
   "metadata": {
    "slideshow": {
     "slide_type": "fragment"
    }
   },
   "outputs": [],
   "source": [
    "(v_launch, v_arrival), = lambert(Sun.k, earth_launch.r, mars_arrival.r, tof)"
   ]
  },
  {
   "cell_type": "code",
   "execution_count": null,
   "metadata": {
    "slideshow": {
     "slide_type": "fragment"
    }
   },
   "outputs": [],
   "source": [
    "v_launch"
   ]
  },
  {
   "cell_type": "code",
   "execution_count": null,
   "metadata": {
    "slideshow": {
     "slide_type": "fragment"
    }
   },
   "outputs": [],
   "source": [
    "v_arrival"
   ]
  },
  {
   "cell_type": "code",
   "execution_count": null,
   "metadata": {
    "slideshow": {
     "slide_type": "fragment"
    }
   },
   "outputs": [],
   "source": [
    "ss0_trans = Orbit.from_vectors(Sun, earth_launch.r, v_launch, date_launch)\n",
    "ss0_trans"
   ]
  },
  {
   "cell_type": "markdown",
   "metadata": {
    "slideshow": {
     "slide_type": "subslide"
    }
   },
   "source": [
    "### ...and it is pure Python!\n",
    "\n",
    "Trick: **numba**\n",
    "\n",
    "![Fortran and Python](benchmarks.png)\n",
    "\n",
    "From my paper Cano Rodríguez, Juan Luis, Helge Eichhorn, and Frazer McLean: poliastro: An Astrodynamics library written in Python with Fortran performance."
   ]
  },
  {
   "cell_type": "markdown",
   "metadata": {
    "slideshow": {
     "slide_type": "slide"
    }
   },
   "source": [
    "## Fourth: Go to Mars!"
   ]
  },
  {
   "cell_type": "code",
   "execution_count": null,
   "metadata": {
    "slideshow": {
     "slide_type": "fragment"
    }
   },
   "outputs": [],
   "source": [
    "from poliastro.util import time_range\n",
    "\n",
    "N = 50\n",
    "\n",
    "times_vector = time_range(date_launch, end=date_arrival, periods=N)\n",
    "times_vector[:5]"
   ]
  },
  {
   "cell_type": "code",
   "execution_count": null,
   "metadata": {
    "slideshow": {
     "slide_type": "fragment"
    }
   },
   "outputs": [],
   "source": [
    "rr_earth = propagate(earth_launch, times_vector - earth_launch.epoch)\n",
    "rr_mars = propagate(mars_arrival, times_vector - mars_arrival.epoch)\n",
    "rr_trans = propagate(ss0_trans, times_vector - ss0_trans.epoch)"
   ]
  },
  {
   "cell_type": "code",
   "execution_count": null,
   "metadata": {
    "slideshow": {
     "slide_type": "subslide"
    }
   },
   "outputs": [],
   "source": [
    "from poliastro.plotting import OrbitPlotter3D\n",
    "from plotly.graph_objs import FigureWidget\n",
    "\n",
    "fig = FigureWidget()\n",
    "frame = OrbitPlotter3D(figure=fig)\n",
    "\n",
    "frame.set_attractor(Sun)\n",
    "\n",
    "frame.plot_trajectory(rr_earth, label=Earth, color=\"#3d4cd5\")\n",
    "frame.plot_trajectory(rr_mars, label=Mars, color=\"#ec1f28\")\n",
    "\n",
    "frame.plot_trajectory(rr_trans, label=\"MSL trajectory\", color=\"#444444\")\n",
    "\n",
    "frame.set_view(30 * u.deg, 260 * u.deg, distance=3 * u.km)\n",
    "\n",
    "fig.layout.title = \"MSL Mission: from Earth to Mars\"\n",
    "fig.layout.autosize = False\n",
    "fig.layout.width = 960\n",
    "fig.layout.height = 600\n",
    "fig.layout.margin = dict(l=10, r=10, b=10, t=100)"
   ]
  },
  {
   "cell_type": "code",
   "execution_count": null,
   "metadata": {
    "slideshow": {
     "slide_type": "subslide"
    }
   },
   "outputs": [],
   "source": [
    "fig"
   ]
  },
  {
   "cell_type": "markdown",
   "metadata": {
    "slideshow": {
     "slide_type": "subslide"
    }
   },
   "source": [
    "## Fifth: Make it interactive!!!1!"
   ]
  },
  {
   "cell_type": "code",
   "execution_count": null,
   "metadata": {
    "slideshow": {
     "slide_type": "subslide"
    }
   },
   "outputs": [],
   "source": [
    "from ipywidgets import interact, interactive, FloatSlider, VBox\n",
    "from IPython.display import display"
   ]
  },
  {
   "cell_type": "code",
   "execution_count": null,
   "metadata": {
    "slideshow": {
     "slide_type": "subslide"
    }
   },
   "outputs": [],
   "source": [
    "# FIXME: We need to redefine the orbit plotter classes\n",
    "# to leverage the batch_update\n",
    "# and make the animations more seamless\n",
    "\n",
    "from plotly.graph_objs import Layout, Scatter3d, Surface\n",
    "from poliastro.plotting._base import BaseOrbitPlotter, Trajectory\n",
    "from poliastro.plotting.util import generate_sphere\n",
    "\n",
    "\n",
    "class CustomBaseOrbitPlotter(BaseOrbitPlotter):\n",
    "    def plot_trajectory(self, trajectory, *, label=None, color=None):\n",
    "        \"\"\"Plots a precomputed trajectory.\n",
    "        An attractor must be set first.\n",
    "        Parameters\n",
    "        ----------\n",
    "        trajectory : ~astropy.coordinates.CartesianRepresentation\n",
    "            Trajectory to plot.\n",
    "        label : string, optional\n",
    "        color : string, optional\n",
    "        \"\"\"\n",
    "        if self._attractor is None:\n",
    "            raise ValueError(\n",
    "                \"An attractor must be set up first, please use \"\n",
    "                \"set_attractor(Major_Body) or plot(orbit).\"\n",
    "            )\n",
    "        else:\n",
    "            if color is None:\n",
    "                color = next(self._color_cycle)\n",
    "\n",
    "            trace = self._plot_trajectory(trajectory, str(label), color, False)\n",
    "\n",
    "            self._trajectories.append(\n",
    "                Trajectory(trajectory, None, label, trace.line.color)\n",
    "            )\n",
    "\n",
    "        if not self._figure._in_batch_mode:\n",
    "            return self.show()\n",
    "\n",
    "    def plot(self, orbit, *, label=None, color=None):\n",
    "        \"\"\"Plots state and osculating orbit in their plane.\n",
    "        Parameters\n",
    "        ----------\n",
    "        orbit : ~poliastro.twobody.orbit.Orbit\n",
    "            Orbit to plot.\n",
    "        label : string, optional\n",
    "            Label of the orbit.\n",
    "        color : string, optional\n",
    "            Color of the line and the position.\n",
    "        \"\"\"\n",
    "        if color is None:\n",
    "            color = next(self._color_cycle)\n",
    "\n",
    "        self._set_attractor(orbit.attractor)\n",
    "\n",
    "        label = generate_label(orbit, label)\n",
    "        trajectory = orbit.sample()\n",
    "\n",
    "        trace = self._plot_trajectory(trajectory, label, color, True)\n",
    "\n",
    "        self._trajectories.append(\n",
    "            Trajectory(trajectory, orbit.r, label, trace.line.color)\n",
    "        )\n",
    "\n",
    "        # Redraw the attractor now to compute the attractor radius\n",
    "        self._redraw_attractor()\n",
    "\n",
    "        # Plot required 2D/3D shape in the position of the body\n",
    "        radius = min(\n",
    "            self._attractor_radius * 0.5, (norm(orbit.r) - orbit.attractor.R) * 0.5\n",
    "        )  # Arbitrary thresholds\n",
    "        self._plot_point(radius, color, label, center=orbit.r)\n",
    "\n",
    "        if not self._figure._in_batch_mode:\n",
    "            return self.show()\n",
    "\n",
    "class CustomOrbitPlotter3D(CustomBaseOrbitPlotter):\n",
    "    \"\"\"OrbitPlotter3D class.\n",
    "    \"\"\"\n",
    "\n",
    "    def __init__(self, figure=None, dark=False):\n",
    "        super().__init__(figure)\n",
    "        self._layout = Layout(\n",
    "            autosize=True,\n",
    "            scene=dict(\n",
    "                xaxis=dict(title=\"x (km)\"),\n",
    "                yaxis=dict(title=\"y (km)\"),\n",
    "                zaxis=dict(title=\"z (km)\"),\n",
    "                aspectmode=\"data\",  # Important!\n",
    "            ),\n",
    "        )\n",
    "        if dark:\n",
    "            self._layout.template = \"plotly_dark\"\n",
    "\n",
    "    def _plot_point(self, radius, color, name, center=[0, 0, 0] * u.km):\n",
    "        # We use _plot_sphere here because it's not easy to specify the size of a marker\n",
    "        # in data units instead of pixels, see\n",
    "        # https://stackoverflow.com/q/47086547\n",
    "        return self._plot_sphere(radius, color, name, center)\n",
    "\n",
    "    def _plot_sphere(self, radius, color, name, center=[0, 0, 0] * u.km):\n",
    "        xx, yy, zz = generate_sphere(radius, center)\n",
    "        sphere = Surface(\n",
    "            x=xx.to(u.km).value,\n",
    "            y=yy.to(u.km).value,\n",
    "            z=zz.to(u.km).value,\n",
    "            name=name,\n",
    "            colorscale=[[0, color], [1, color]],\n",
    "            cauto=False,\n",
    "            cmin=1,\n",
    "            cmax=1,\n",
    "            showscale=False,\n",
    "        )\n",
    "        self._figure.add_trace(sphere)\n",
    "\n",
    "        return sphere\n",
    "\n",
    "    def _plot_trajectory(self, trajectory, label, color, dashed):\n",
    "        trace = Scatter3d(\n",
    "            x=trajectory.x.to(u.km).value,\n",
    "            y=trajectory.y.to(u.km).value,\n",
    "            z=trajectory.z.to(u.km).value,\n",
    "            name=label,\n",
    "            line=dict(color=color, width=5, dash=\"dash\" if dashed else \"solid\"),\n",
    "            mode=\"lines\",  # Boilerplate\n",
    "        )\n",
    "        self._figure.add_trace(trace)\n",
    "\n",
    "        return trace\n",
    "\n",
    "    @u.quantity_input(elev=u.rad, azim=u.rad, distance=u.km)\n",
    "    def set_view(self, elev, azim, distance=5 * u.km):\n",
    "        x = distance * np.cos(elev) * np.cos(azim)\n",
    "        y = distance * np.cos(elev) * np.sin(azim)\n",
    "        z = distance * np.sin(elev)\n",
    "\n",
    "        self._layout.update(\n",
    "            {\n",
    "                \"scene\": {\n",
    "                    \"camera\": {\n",
    "                        \"eye\": {\n",
    "                            \"x\": x.to(u.km).value,\n",
    "                            \"y\": y.to(u.km).value,\n",
    "                            \"z\": z.to(u.km).value,\n",
    "                        }\n",
    "                    }\n",
    "                }\n",
    "            }\n",
    "        )\n",
    "\n",
    "        if not self._figure._in_batch_mode:\n",
    "            return self.show()"
   ]
  },
  {
   "cell_type": "code",
   "execution_count": null,
   "metadata": {
    "slideshow": {
     "slide_type": "subslide"
    }
   },
   "outputs": [],
   "source": [
    "fig = FigureWidget()\n",
    "\n",
    "fig.layout.title = \"MSL Mission: from Earth to Mars\"\n",
    "fig.layout.autosize = False\n",
    "fig.layout.width = 960\n",
    "fig.layout.height = 600\n",
    "fig.layout.margin = dict(l=10, r=10, b=10, t=100)"
   ]
  },
  {
   "cell_type": "code",
   "execution_count": null,
   "metadata": {
    "slideshow": {
     "slide_type": "subslide"
    }
   },
   "outputs": [],
   "source": [
    "def go_to_mars(tof_):\n",
    "    times_vector = time_range(date_launch, end=date_launch + tof_ * u.h, periods=N)\n",
    "\n",
    "    # Solve Lambert problem with new data\n",
    "    mars_arrival = Orbit.from_body_ephem(Mars, date_launch + tof_ * u.h)\n",
    "    (v_launch, v_arrival), = lambert(Sun.k, earth_launch.r, mars_arrival.r, tof_ * u.h)\n",
    "    ss0_trans = Orbit.from_vectors(Sun, earth_launch.r, v_launch, date_launch)\n",
    "\n",
    "    # Plot\n",
    "    rr_earth = propagate(earth_launch, times_vector - earth_launch.epoch)\n",
    "    rr_mars = propagate(mars_arrival, times_vector - mars_arrival.epoch)\n",
    "    rr_trans = propagate(ss0_trans, times_vector - ss0_trans.epoch)\n",
    "\n",
    "    # FIXME: Apparently batch_update\n",
    "    # does not prevent FigureWidget.add_trace to appear in steps?\n",
    "    with fig.batch_update(): \n",
    "        # FIXME: Hack to animate the figure seamlessly\n",
    "        # that however adds more and more invisible traces to the figure \n",
    "        for trace in fig.data:\n",
    "            trace.visible = False\n",
    "\n",
    "        frame = CustomOrbitPlotter3D(figure=fig)\n",
    "\n",
    "        frame.set_attractor(Sun)\n",
    "\n",
    "        frame.plot_trajectory(rr_earth, label=Earth, color=\"#3d4cd5\")\n",
    "        frame.plot_trajectory(rr_mars, label=Mars, color=\"#ec1f28\")\n",
    "\n",
    "        frame.plot_trajectory(rr_trans, label=\"MSL trajectory\", color=\"#444444\")\n",
    "\n",
    "        frame.set_view(30 * u.deg, 260 * u.deg, distance=3 * u.km)\n",
    "\n",
    "    # Relayout the plot\n",
    "    frame.show()"
   ]
  },
  {
   "cell_type": "code",
   "execution_count": null,
   "metadata": {
    "slideshow": {
     "slide_type": "subslide"
    }
   },
   "outputs": [],
   "source": [
    "slider = interactive(\n",
    "    go_to_mars,\n",
    "    tof_=FloatSlider(min=5000, value=6000, max=9000, step=250, continuous_update=False),\n",
    ")"
   ]
  },
  {
   "cell_type": "code",
   "execution_count": null,
   "metadata": {
    "slideshow": {
     "slide_type": "subslide"
    }
   },
   "outputs": [],
   "source": [
    "VBox([slider, fig])"
   ]
  },
  {
   "cell_type": "markdown",
   "metadata": {
    "slideshow": {
     "slide_type": "slide"
    }
   },
   "source": [
    "### https://docs.poliastro.space\n",
    "\n",
    "## Thank you very much!\n",
    "\n",
    "## <hello@juanlu.space>\n",
    "\n",
    "![Rocket](http://www.esa.int/var/esa/storage/images/esa_multimedia/images/2012/02/liftoff_of_vega_vv014/9659852-3-eng-GB/Liftoff_of_Vega_VV01_large.jpg)"
   ]
  }
 ],
 "metadata": {
  "celltoolbar": "Slideshow",
  "kernelspec": {
   "display_name": "Python 3",
   "language": "python",
   "name": "python3"
  },
  "language_info": {
   "codemirror_mode": {
    "name": "ipython",
    "version": 3
   },
   "file_extension": ".py",
   "mimetype": "text/x-python",
   "name": "python",
   "nbconvert_exporter": "python",
   "pygments_lexer": "ipython3",
   "version": "3.7.1"
  }
 },
 "nbformat": 4,
 "nbformat_minor": 1
}
